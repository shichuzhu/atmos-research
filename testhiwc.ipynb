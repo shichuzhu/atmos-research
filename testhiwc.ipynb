{
 "cells": [
  {
   "cell_type": "code",
   "execution_count": 1,
   "metadata": {
    "ExecuteTime": {
     "end_time": "2017-08-07T21:59:55.508342Z",
     "start_time": "2017-08-07T21:59:54.648635Z"
    }
   },
   "outputs": [
    {
     "name": "stdout",
     "output_type": "stream",
     "text": [
      "Populating the interactive namespace from numpy and matplotlib\n"
     ]
    }
   ],
   "source": [
    "%pylab inline\n",
    "# For interactive plotting\n",
    "# %matplotlib notebook\n",
    "from mpl_toolkits.mplot3d import Axes3D\n",
    "import matplotlib.pyplot as plt\n",
    "import numpy as np\n",
    "from numpy import *\n",
    "import numdifftools as nd\n",
    "import pandas as pd\n",
    "import xarray as xr\n",
    "import glob, re, os\n",
    "import scipy\n",
    "import pickle\n",
    "import datetime\n",
    "import netCDF4\n",
    "\n",
    "## For debug mode\n",
    "from IPython.core.debugger import Tracer\n",
    "#Tracer()() #this one triggers the debugger"
   ]
  },
  {
   "cell_type": "code",
   "execution_count": 2,
   "metadata": {
    "ExecuteTime": {
     "end_time": "2017-08-07T22:00:01.797140Z",
     "start_time": "2017-08-07T22:00:01.771398Z"
    }
   },
   "outputs": [],
   "source": [
    "## Load data and functions\n",
    "with open('tmpcay.p','rb') as f:\n",
    "    psd,nml,_dump_t,bin_div,_dump_bin_mid,_dump_bin_diff = pickle.load(f)\n",
    "    bin_mid = (bin_div[1:]+bin_div[:-1])/2\n",
    "    bin_diff = np.diff(bin_div)\n",
    "\n",
    "moments = np.array([0,2,3])\n",
    "mobs = np.empty_like(moments)\n",
    "for szmoment in range(len(mobs)):\n",
    "    mobs[szmoment] = np.sum( psd*bin_diff*bin_mid**(moments[szmoment]) )\n",
    "    \n",
    "### IGF routine part2 ellipsoid generator\n",
    "sa2ds = minimum(5.13*bin_mid**2,63e3) * 1280; # 2DS in um\n",
    "sapip = minimum(3*bin_mid**2/0.658, 260e3) * 6400; # PIP in um\n",
    "sa = np.where(bin_mid<1e3, sa2ds, sapip)/1e12 # m^2"
   ]
  },
  {
   "cell_type": "code",
   "execution_count": 3,
   "metadata": {
    "ExecuteTime": {
     "end_time": "2017-08-07T22:00:17.244382Z",
     "start_time": "2017-08-07T22:00:15.880624Z"
    },
    "code_folding": []
   },
   "outputs": [],
   "source": [
    "\"\"\"\n",
    "Adjustable parameters:\n",
    "    bin_div (bin_mid, bin_diff) -> 2ds+pip\n",
    "    sa -> 2ds+pip\n",
    "    moments -> np.array([0,2,3])\n",
    "\"\"\"\n",
    "# Define functions\n",
    "f_mygamma = lambda nml, x: 10**nml[0]*x**nml[1]*np.exp(-nml[2]*x)\n",
    "def f_geneigvector( psd, bin_div=bin_div, moments=moments ):\n",
    "    ## Calculate the counts\n",
    "    global bin_mid, bin_diff\n",
    "    count = f_count(psd,bin_mid,bin_diff,200*5)\n",
    "    dchi = f_delta_chisquare( psd, count, moments, bin_mid, bin_diff, mobs )\n",
    "\n",
    "    jac = np.matrix(nd.Jacobian(f_sum_chisquare,step=np.array([1,1,1e-3])*1e-3)( nml, moments, bin_mid, bin_diff, mobs ))\n",
    "    hes = np.matrix(nd.Hessian(f_sum_chisquare,step=np.array([1,1,1e-3])*1e-3)( nml, moments, bin_mid, bin_diff, mobs ))\n",
    "\n",
    "    # HV = Vd = VD\n",
    "    d, V = scipy.linalg.eigh(hes)\n",
    "    # D = np.asmatrix(np.diag(d))\n",
    "    V = np.asmatrix(V)\n",
    "    centroid = nml\n",
    "    return centroid, V, d, dchi # sync1\n",
    "\n",
    "def f_plot_E(args):\n",
    "    centroid, V, d, dchi = args # sync1\n",
    "    rx, ry, rz = np.sqrt(2*dchi/d)\n",
    "    u, v = np.mgrid[0:2*pi:20j, -pi/2:pi/2:10j]\n",
    "\n",
    "    x = rx*cos(u)*cos(v)\n",
    "    y = ry*sin(u)*cos(v)\n",
    "    z = rz*sin(v)\n",
    "\n",
    "    E = np.stack([x,y,z],axis=-1)\n",
    "    # BUG found Jun 10, 2017, use V.T instead of V\n",
    "    E = np.dot(E,np.array(V).T) + centroid\n",
    "    # Move the xyz dimension from the last to the first so that it can be assigned.\n",
    "    E = np.rollaxis(E, axis = -1)\n",
    "    \n",
    "    x, y, z = E\n",
    "    fig = plt.figure()\n",
    "    ax = fig.add_subplot(111, projection='3d')\n",
    "\n",
    "    ax.plot_surface(X=x, Y=y, Z=z, color='b', alpha = 0.75)\n",
    "    plt.show()\n",
    "\n",
    "# Plot families of PSD based on nml\n",
    "from scipy.stats import chi2\n",
    "def f_plot_Ef(nmls, prob=0.95,angles=None):\n",
    "    \"\"\"Plot families of PSD based on nml.\n",
    "    nmls: needs to be shape [3,time]\n",
    "    prob: confidential interval\n",
    "    angles: final plot view angles (elevation, azimuth)\"\"\"\n",
    "    \n",
    "    # Getting rid of the outliers based on prob first\n",
    "    centroid = np.mean(nmls,axis=1)\n",
    "    dist = np.sqrt(np.sum((nmls.T-centroid).T**2,axis=0))\n",
    "    ind = dist < np.percentile(dist, 100*prob)\n",
    "    nmls = nmls[:,ind]\n",
    "    \n",
    "    hes = np.cov(nmls)\n",
    "    # HV = Vd = VD\n",
    "    d, V = scipy.linalg.eigh(hes)\n",
    "    # D = np.asmatrix(np.diag(d))\n",
    "    V = np.asmatrix(V)\n",
    "    centroid = np.mean(nmls,axis=1)\n",
    "    # return centroid, V, d, dchi # sync1\n",
    "\n",
    "    dchi = chi2.isf(1-prob,3) # inverse survival function, 99 percent, degree of freedom 3\n",
    "    rx, ry, rz = np.sqrt(dchi*d) # This is different from the Hessian matrix, see\n",
    "    # http://www.visiondummy.com/2014/04/draw-error-ellipse-representing-covariance-matrix/#comment-190\n",
    "    u, v = np.mgrid[0:2*pi:20j, -pi/2:pi/2:10j]\n",
    "\n",
    "    x = rx*cos(u)*cos(v)\n",
    "    y = ry*sin(u)*cos(v)\n",
    "    z = rz*sin(v)\n",
    "\n",
    "    E = np.stack([x,y,z],axis=-1)\n",
    "    # BUG found Jun 10, 2017, use V.T instead of V\n",
    "    E = np.dot(E,np.array(V).T) + centroid\n",
    "    # Move the xyz dimension from the last to the first so that it can be assigned.\n",
    "    E = np.rollaxis(E, axis = -1)\n",
    "\n",
    "    x, y, z = E\n",
    "    fig = plt.figure()\n",
    "    ax = fig.add_subplot(111, projection='3d')\n",
    "    if angles is not None:\n",
    "        ax.view_init(*angles)\n",
    "\n",
    "    ax.plot_surface(X=x, Y=y, Z=z, color='g', alpha = 0.5)\n",
    "    ax.set_xlabel('log10(N0) (1/L/um)')\n",
    "    ax.set_ylabel('$\\mu$')\n",
    "    ax.set_zlabel('$\\lambda$ (1/um)')\n",
    "\n",
    "    x,y,z = nmls\n",
    "    ax.scatter(x, y, z, color='b', alpha = 0.75)\n",
    "    plt.show()\n",
    "    return\n",
    "\n",
    "def f_count( psd, bin_mid, bin_diff, tasdt ):\n",
    "    global sa\n",
    "    return psd*sa*tasdt*bin_diff*1e3 # convert psd in /L to /m3\n",
    "\n",
    "def f_delta_chisquare( psd, count, moments, bin_mid, bin_diff, mobs ):\n",
    "    count[count==0] = nan\n",
    "    psd[psd==0] = nan\n",
    "    return nansum( np.array([ nansum( (bin_mid**m *bin_diff*psd/mob)**2/count )\n",
    "                          for m,mob in zip(moments,mobs)]))\n",
    "\n",
    "def f_sum_chisquare( nml, moments, bin_mid, bin_diff, mobs ):\n",
    "    psd = f_mygamma(nml, bin_mid)\n",
    "    ### We may drop this condition if the code works fine.\n",
    "#     if any(np.isnan(psd)) or any(np.isinf(psd)):\n",
    "#         return np.inf\n",
    "    mfit = np.empty(mobs.shape)\n",
    "    for szmoment in range(len(mfit)):\n",
    "        mfit[szmoment] = np.sum( psd*bin_diff*bin_mid**(moments[szmoment]) )\n",
    "    return np.sum( (mfit-mobs)**2/mobs/mfit )\n",
    "\n",
    "## For median mass diameter calculation\n",
    "def f_mmd(bin_div, msd):\n",
    "    # bin_diff = np.diff(bin_div)\n",
    "    cmsd = np.concatenate( (np.array([0]),np.cumsum(msd*bin_diff)) )\n",
    "    if cmsd[-1]<=0:\n",
    "        return np.NaN\n",
    "    cmsd /= cmsd[-1]\n",
    "    indtmp = np.where(np.diff(cmsd>0.5)==1)[0]\n",
    "    x1,x2,y1,y2 = bin_div[indtmp], bin_div[indtmp+1], cmsd[indtmp], cmsd[indtmp+1]\n",
    "    mmd = (x2-x1)/(y2-y1)*(0.5-y1)+x1\n",
    "    return mmd"
   ]
  },
  {
   "cell_type": "raw",
   "metadata": {
    "ExecuteTime": {
     "end_time": "2017-06-10T09:04:51.968717Z",
     "start_time": "2017-06-10T09:04:51.783506Z"
    }
   },
   "source": [
    "%matplotlib notebook\n",
    "# %matplotlib inline\n",
    "# f_plot_E(f_geneigvector(psd))\n",
    "# nmltest = np.random.randn(3,100)\n",
    "nmltest = (np.dot(np.random.randn(3,3),np.random.randn(3,500)).T*np.array([2,4,70])+2).T\n",
    "f_plot_Ef(nmltest)\n",
    "plt.show()"
   ]
  },
  {
   "cell_type": "raw",
   "metadata": {
    "ExecuteTime": {
     "end_time": "2017-05-22T21:01:52.719568Z",
     "start_time": "2017-05-22T21:01:45.817183Z"
    },
    "collapsed": true
   },
   "source": [
    "## Needed only for initializing data\n",
    "test = xr.open_dataset('tmp/cayenne/cayenne_sync_bulk.nc',group='/saffire')\n",
    "ikp = xr.open_dataset('tmp/cayenne/cayenne_sync_bulk.nc',group='/ikp')['XKBZR5s']\n",
    "tmppsd = xr.open_dataset('tmp/cayenne/cayenne_sync_gz.nc',group='/lamp')\n",
    "lampproc = xr.open_dataset('tmp/cayenne/cayenne_sync_bulk.nc',group='/lampproc')\n",
    "bin_div = tmppsd.attrs['bin_div']\n",
    "bin_diff = np.diff(bin_div)\n",
    "bin_mid = (bin_div[:-1]+bin_div[1:])/2.\n",
    "\n",
    "with open('tmpcay.p','wb') as f:\n",
    "    pickle.dump([psd,nml,t,bin_div,bin_mid,bin_diff],f)\n",
    "# psd = tmppsd.psddmax[ikp>2,:][2,:]"
   ]
  },
  {
   "cell_type": "markdown",
   "metadata": {},
   "source": [
    "Instead of using minimal enclosing ellipsoid, use $\\chi^2$ distribution and the covariance matrix to find the ellipsoid of certain confident level."
   ]
  },
  {
   "cell_type": "raw",
   "metadata": {
    "ExecuteTime": {
     "end_time": "2017-05-22T17:37:40.136185Z",
     "start_time": "2017-05-22T17:37:33.249586Z"
    }
   },
   "source": [
    "# Code for KDE, reference:\n",
    "# http://stackoverflow.com/a/6658307/5426033\n",
    "import numpy as np\n",
    "import scipy.ndimage as ndi\n",
    "\n",
    "data = np.random.rand(30000,2)           ## create random dataset\n",
    "bin_div = np.linspace(0,1,257)\n",
    "gridpts,null,null = np.histogram2d(data[:,0],data[:,1],bins=[bin_div,bin_div])\n",
    "\n",
    "img2 = ndi.gaussian_filter(gridpts, (10,10))\n",
    "plt.pcolor(img2)\n",
    "plt.colorbar()"
   ]
  },
  {
   "cell_type": "raw",
   "metadata": {
    "ExecuteTime": {
     "end_time": "2017-05-26T18:00:19.642224Z",
     "start_time": "2017-05-26T18:00:19.485629Z"
    },
    "collapsed": true
   },
   "source": [
    "import numpy as np\n",
    "import numpy.linalg as la\n",
    "import matplotlib.pyplot as plt\n",
    "from mpl_toolkits.mplot3d import Axes3D\n",
    "\n",
    "pi = np.pi\n",
    "sin = np.sin\n",
    "cos = np.cos\n",
    "# minimum volume enclosing ellipsoid\n",
    "def mvee(points, tol = 0.001):\n",
    "    \"\"\"\n",
    "    Finds the ellipse equation in \"center form\"\n",
    "    (x-c).T * A * (x-c) = 1\n",
    "    \"\"\"\n",
    "    N, d = points.shape\n",
    "    Q = np.column_stack((points, np.ones(N))).T\n",
    "    err = tol+1.0\n",
    "    u = np.ones(N)/N\n",
    "    while err > tol:\n",
    "        # assert u.sum() == 1 # invariant\n",
    "        X = np.dot(np.dot(Q, np.diag(u)), Q.T)\n",
    "        M = np.diag(np.dot(np.dot(Q.T, la.inv(X)), Q))\n",
    "        jdx = np.argmax(M)\n",
    "        step_size = (M[jdx]-d-1.0)/((d+1)*(M[jdx]-1.0))\n",
    "        new_u = (1-step_size)*u\n",
    "        new_u[jdx] += step_size\n",
    "        err = la.norm(new_u-u)\n",
    "        u = new_u\n",
    "    c = np.dot(u,points)        \n",
    "    A = la.inv(np.dot(np.dot(points.T, np.diag(u)), points)\n",
    "               - np.multiply.outer(c,c))/d\n",
    "    return A, c"
   ]
  }
 ],
 "metadata": {
  "hide_input": false,
  "kernelspec": {
   "display_name": "Python [conda env:py36]",
   "language": "python",
   "name": "conda-env-py36-py"
  },
  "language_info": {
   "codemirror_mode": {
    "name": "ipython",
    "version": 3
   },
   "file_extension": ".py",
   "mimetype": "text/x-python",
   "name": "python",
   "nbconvert_exporter": "python",
   "pygments_lexer": "ipython3",
   "version": "3.6.2"
  },
  "latex_envs": {
   "LaTeX_envs_menu_present": true,
   "autocomplete": true,
   "bibliofile": "biblio.bib",
   "cite_by": "apalike",
   "current_citInitial": 1,
   "eqLabelWithNumbers": true,
   "eqNumInitial": 1,
   "hotkeys": {
    "equation": "Ctrl-E",
    "itemize": "Ctrl-I"
   },
   "labels_anchors": false,
   "latex_user_defs": false,
   "report_style_numbering": false,
   "user_envs_cfg": false
  },
  "varInspector": {
   "cols": {
    "lenName": 16,
    "lenType": 16,
    "lenVar": 40
   },
   "kernels_config": {
    "python": {
     "delete_cmd_postfix": "",
     "delete_cmd_prefix": "del ",
     "library": "var_list.py",
     "varRefreshCmd": "print(var_dic_list())"
    },
    "r": {
     "delete_cmd_postfix": ") ",
     "delete_cmd_prefix": "rm(",
     "library": "var_list.r",
     "varRefreshCmd": "cat(var_dic_list()) "
    }
   },
   "position": {
    "height": "731px",
    "left": "1462px",
    "right": "20px",
    "top": "120px",
    "width": "350px"
   },
   "types_to_exclude": [
    "module",
    "function",
    "builtin_function_or_method",
    "instance",
    "_Feature"
   ],
   "window_display": false
  }
 },
 "nbformat": 4,
 "nbformat_minor": 2
}
