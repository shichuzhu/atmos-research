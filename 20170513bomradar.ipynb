{
 "cells": [
  {
   "cell_type": "code",
   "execution_count": 1,
   "metadata": {
    "ExecuteTime": {
     "end_time": "2017-05-14T02:29:00.826823Z",
     "start_time": "2017-05-14T02:28:59.669139Z"
    }
   },
   "outputs": [
    {
     "name": "stdout",
     "output_type": "stream",
     "text": [
      "Populating the interactive namespace from numpy and matplotlib\n"
     ]
    },
    {
     "name": "stderr",
     "output_type": "stream",
     "text": [
      "/data/keeling/a/szhu28/usr/anaconda2/envs/py3k/lib/python3.5/site-packages/xarray/core/formatting.py:16: FutureWarning: The pandas.tslib module is deprecated and will be removed in a future version.\n",
      "  from pandas.tslib import OutOfBoundsDatetime\n"
     ]
    }
   ],
   "source": [
    "%pylab inline\n",
    "# import pickle as pkl\n",
    "import pandas as pd\n",
    "from matplotlib import dates\n",
    "import xarray as xr\n",
    "# mpl.rcParams['figure.dpi'] = 200\n",
    "\n",
    "from IPython.display import clear_output\n",
    "from IPython.core.debugger import Tracer # Tracer()()"
   ]
  },
  {
   "cell_type": "code",
   "execution_count": 2,
   "metadata": {
    "ExecuteTime": {
     "end_time": "2017-05-14T02:29:08.043410Z",
     "start_time": "2017-05-14T02:29:03.512327Z"
    }
   },
   "outputs": [],
   "source": [
    "bin_div = pd.read_hdf('pythondata/hiwcdata.h5',key='bin_div').as_matrix().ravel()\n",
    "bin_mid = (bin_div[:-1]+bin_div[1:])/2.\n",
    "bin_diff = np.diff(bin_div)\n",
    "numofflts = 23\n",
    "rootpath = '/data/mcfarq/a/szhu28/research/HIWC/data/fulldataDarwin'\n",
    "cmbds = xr.open_dataset('pythondata/rasta_raw_cmb.h5')\n",
    "rastads = xr.open_dataset('pythondata/rastacombine.h5')\n",
    "rawpsd = xr.open_dataset('pythondata/psdds.h5')"
   ]
  },
  {
   "cell_type": "code",
   "execution_count": null,
   "metadata": {
    "collapsed": true
   },
   "outputs": [],
   "source": [
    "filepath = '/data/mcfarq/a/szhu28/research/HIWC/data/fulldataDarwin/data_src/data20161012/BOMradar/test'\n",
    "filename = '20140203_174910.nc'\n",
    "fullpath = filepath+'/'+filename\n",
    "\n",
    "ds = xr.open_dataset(fullpath,mask_and_scale=True)\n",
    "dbz = ds.DBZ\n",
    "a=np.unique(ds.Coverage.values)\n",
    "a[~isnan(a)]\n",
    "dssub = ds.isel(z0=12)\n",
    "plt.figure()\n",
    "fig = dssub.DBZ.squeeze().plot.contourf()"
   ]
  },
  {
   "cell_type": "code",
   "execution_count": 6,
   "metadata": {
    "ExecuteTime": {
     "end_time": "2017-05-14T02:31:40.755000Z",
     "start_time": "2017-05-14T02:31:40.749495Z"
    }
   },
   "outputs": [],
   "source": [
    "fn = cmbds.flightnum.values"
   ]
  },
  {
   "cell_type": "code",
   "execution_count": 10,
   "metadata": {
    "ExecuteTime": {
     "end_time": "2017-05-14T02:32:55.490165Z",
     "start_time": "2017-05-14T02:32:55.475533Z"
    }
   },
   "outputs": [
    {
     "data": {
      "text/plain": [
       "(array([ 14522,  26968,  38207,  50928,  62533,  76394,  87345, 100617,\n",
       "        111622, 125298, 131316, 145742, 160101, 174828, 187951, 204584,\n",
       "        213064, 227250, 242150, 251182, 260675, 275718]),)"
      ]
     },
     "execution_count": 10,
     "metadata": {},
     "output_type": "execute_result"
    }
   ],
   "source": [
    "np.where(np.diff(fn))"
   ]
  },
  {
   "cell_type": "code",
   "execution_count": 49,
   "metadata": {
    "ExecuteTime": {
     "end_time": "2017-05-14T02:48:46.617538Z",
     "start_time": "2017-05-14T02:48:46.604931Z"
    }
   },
   "outputs": [],
   "source": [
    "tmpstartind = list(np.where(np.diff(fn))[0])+[-1]"
   ]
  },
  {
   "cell_type": "code",
   "execution_count": 52,
   "metadata": {
    "ExecuteTime": {
     "end_time": "2017-05-14T02:49:08.328907Z",
     "start_time": "2017-05-14T02:49:08.317155Z"
    },
    "collapsed": true
   },
   "outputs": [],
   "source": [
    "tmpendind = [0]+list(1+np.where(np.diff(fn))[0])"
   ]
  },
  {
   "cell_type": "code",
   "execution_count": 39,
   "metadata": {
    "ExecuteTime": {
     "end_time": "2017-05-14T02:43:17.780098Z",
     "start_time": "2017-05-14T02:43:17.774081Z"
    }
   },
   "outputs": [
    {
     "data": {
      "text/plain": [
       "'2014-01-16T01:22:14.000000000'"
      ]
     },
     "execution_count": 39,
     "metadata": {},
     "output_type": "execute_result"
    }
   ],
   "source": [
    "str(cmbds.time[tmpendind].values[0])"
   ]
  },
  {
   "cell_type": "code",
   "execution_count": 43,
   "metadata": {
    "ExecuteTime": {
     "end_time": "2017-05-14T02:46:14.116049Z",
     "start_time": "2017-05-14T02:46:14.109762Z"
    }
   },
   "outputs": [
    {
     "data": {
      "text/plain": [
       "23"
      ]
     },
     "execution_count": 43,
     "metadata": {},
     "output_type": "execute_result"
    }
   ],
   "source": [
    "len(cmbds.time[tmpendind].values)"
   ]
  },
  {
   "cell_type": "code",
   "execution_count": 53,
   "metadata": {
    "ExecuteTime": {
     "end_time": "2017-05-14T02:49:10.366657Z",
     "start_time": "2017-05-14T02:49:10.340443Z"
    }
   },
   "outputs": [
    {
     "name": "stdout",
     "output_type": "stream",
     "text": [
      "flight 01,  2014-01-16T01:22:14.000000000 2014-01-16T05:24:16.000000000\n",
      "flight 02,  2014-01-16T21:03:22.000000000 2014-01-17T00:30:47.000000000\n",
      "flight 03,  2014-01-17T02:07:40.000000000 2014-01-17T05:14:58.000000000\n",
      "flight 04,  2014-01-18T21:17:59.000000000 2014-01-19T00:49:59.000000000\n",
      "flight 05,  2014-01-21T04:12:11.000000000 2014-01-21T07:25:35.000000000\n",
      "flight 06,  2014-01-23T19:34:05.000000000 2014-01-23T23:25:06.000000000\n",
      "flight 07,  2014-01-24T19:38:14.000000000 2014-01-24T22:40:45.000000000\n",
      "flight 08,  2014-01-27T20:03:15.000000000 2014-01-27T23:51:12.000000000\n",
      "flight 09,  2014-01-28T20:45:55.000000000 2014-01-28T23:49:20.000000000\n",
      "flight 10,  2014-01-29T19:34:27.000000000 2014-01-29T23:22:22.000000000\n",
      "flight 11,  2014-01-30T00:45:46.000000000 2014-01-30T02:26:03.000000000\n",
      "flight 12,  2014-02-02T19:49:27.000000000 2014-02-02T23:49:52.000000000\n",
      "flight 13,  2014-02-03T02:37:20.000000000 2014-02-03T06:36:39.000000000\n",
      "flight 14,  2014-02-04T19:51:27.000000000 2014-02-04T23:56:57.000000000\n",
      "flight 15,  2014-02-05T22:56:36.000000000 2014-02-06T02:35:19.000000000\n",
      "flight 16,  2014-02-07T19:42:50.000000000 2014-02-08T00:20:03.000000000\n",
      "flight 17,  2014-02-08T01:35:54.000000000 2014-02-08T03:57:13.000000000\n",
      "flight 18,  2014-02-08T20:16:09.000000000 2014-02-09T00:12:34.000000000\n",
      "flight 19,  2014-02-09T20:11:21.000000000 2014-02-10T00:19:40.000000000\n",
      "flight 20,  2014-02-10T01:33:38.000000000 2014-02-10T04:04:09.000000000\n",
      "flight 21,  2014-02-17T05:58:34.000000000 2014-02-17T08:36:46.000000000\n",
      "flight 22,  2014-02-17T20:56:32.000000000 2014-02-18T01:07:14.000000000\n",
      "flight 23,  2014-02-18T20:51:32.000000000 2014-02-19T00:52:03.000000000\n"
     ]
    },
    {
     "data": {
      "text/plain": [
       "[None,\n",
       " None,\n",
       " None,\n",
       " None,\n",
       " None,\n",
       " None,\n",
       " None,\n",
       " None,\n",
       " None,\n",
       " None,\n",
       " None,\n",
       " None,\n",
       " None,\n",
       " None,\n",
       " None,\n",
       " None,\n",
       " None,\n",
       " None,\n",
       " None,\n",
       " None,\n",
       " None,\n",
       " None,\n",
       " None]"
      ]
     },
     "execution_count": 53,
     "metadata": {},
     "output_type": "execute_result"
    }
   ],
   "source": [
    "[print('flight '+format(i,'02')+', ',str(x),str(y)) for i,x,y in zip(range(1,24),cmbds.time[tmpendind].values,cmbds.time[tmpstartind].values)]"
   ]
  },
  {
   "cell_type": "code",
   "execution_count": 27,
   "metadata": {
    "ExecuteTime": {
     "end_time": "2017-05-14T02:38:53.655060Z",
     "start_time": "2017-05-14T02:38:53.648201Z"
    }
   },
   "outputs": [
    {
     "data": {
      "text/plain": [
       "array(['2014-01-16T01:22:14.000000000', '2014-01-16T05:24:16.000000000',\n",
       "       '2014-01-17T00:30:47.000000000', '2014-01-17T05:14:58.000000000',\n",
       "       '2014-01-19T00:49:59.000000000', '2014-01-21T07:25:35.000000000',\n",
       "       '2014-01-23T23:25:06.000000000', '2014-01-24T22:40:45.000000000',\n",
       "       '2014-01-27T23:51:12.000000000', '2014-01-28T23:49:20.000000000',\n",
       "       '2014-01-29T23:22:22.000000000', '2014-01-30T02:26:03.000000000',\n",
       "       '2014-02-02T23:49:52.000000000', '2014-02-03T06:36:39.000000000',\n",
       "       '2014-02-04T23:56:57.000000000', '2014-02-06T02:35:19.000000000',\n",
       "       '2014-02-08T00:20:03.000000000', '2014-02-08T03:57:13.000000000',\n",
       "       '2014-02-09T00:12:34.000000000', '2014-02-10T00:19:40.000000000',\n",
       "       '2014-02-10T04:04:09.000000000', '2014-02-17T08:36:46.000000000',\n",
       "       '2014-02-18T01:07:14.000000000'], dtype='datetime64[ns]')"
      ]
     },
     "execution_count": 27,
     "metadata": {},
     "output_type": "execute_result"
    }
   ],
   "source": [
    "cmbds.time[tmpendind].values"
   ]
  },
  {
   "cell_type": "code",
   "execution_count": null,
   "metadata": {
    "collapsed": true
   },
   "outputs": [],
   "source": [
    "filepath = '/data/mcfarq/a/szhu28/research/HIWC/data/fulldataDarwin/data_src/data20161012/BOMradar/test'\n",
    "filename = '20140203_174910.nc'\n",
    "fullpath = filepath+'/'+filename\n"
   ]
  }
 ],
 "metadata": {
  "hide_input": false,
  "kernelspec": {
   "display_name": "atmos",
   "language": "python",
   "name": "atmos"
  },
  "language_info": {
   "codemirror_mode": {
    "name": "ipython",
    "version": 3
   },
   "file_extension": ".py",
   "mimetype": "text/x-python",
   "name": "python",
   "nbconvert_exporter": "python",
   "pygments_lexer": "ipython3",
   "version": "3.6.5"
  },
  "latex_envs": {
   "LaTeX_envs_menu_present": true,
   "bibliofile": "biblio.bib",
   "cite_by": "apalike",
   "current_citInitial": 1,
   "eqLabelWithNumbers": true,
   "eqNumInitial": 1,
   "hotkeys": {
    "equation": "Ctrl-E",
    "itemize": "Ctrl-I"
   },
   "labels_anchors": false,
   "latex_user_defs": false,
   "report_style_numbering": false,
   "user_envs_cfg": false
  }
 },
 "nbformat": 4,
 "nbformat_minor": 2
}
