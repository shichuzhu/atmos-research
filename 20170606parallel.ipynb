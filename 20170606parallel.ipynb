{
 "cells": [
  {
   "cell_type": "code",
   "execution_count": 1,
   "metadata": {
    "ExecuteTime": {
     "end_time": "2018-06-27T04:08:58.651179Z",
     "start_time": "2018-06-27T04:08:58.547877Z"
    }
   },
   "outputs": [],
   "source": [
    "import os\n",
    "import ipyparallel as ipp\n",
    "\n",
    "rc = ipp.Client()\n",
    "ar = rc[:].apply_async(os.getpid)\n",
    "pid_map = ar.get_dict()"
   ]
  },
  {
   "cell_type": "code",
   "execution_count": 14,
   "metadata": {
    "ExecuteTime": {
     "end_time": "2018-06-27T04:15:19.825331Z",
     "start_time": "2018-06-27T04:15:09.781635Z"
    }
   },
   "outputs": [
    {
     "name": "stdout",
     "output_type": "stream",
     "text": [
      "{0: None, 1: None, 2: None}\n"
     ]
    }
   ],
   "source": [
    "def dull_printing():\n",
    "    import os\n",
    "    import time\n",
    "    pid = os.getpid()\n",
    "    for _ in range(10):\n",
    "        print(str(pid) + \" reporting ...\")\n",
    "        time.sleep(1)\n",
    "\n",
    "import os\n",
    "import ipyparallel as ipp\n",
    "\n",
    "rc = ipp.Client()\n",
    "ar = rc[:].apply_async(dull_printing)\n",
    "pid_map = ar.get_dict()\n",
    "print(pid_map)"
   ]
  },
  {
   "cell_type": "code",
   "execution_count": 18,
   "metadata": {
    "ExecuteTime": {
     "end_time": "2018-06-27T04:15:57.277783Z",
     "start_time": "2018-06-27T04:15:57.273690Z"
    }
   },
   "outputs": [
    {
     "data": {
      "text/plain": [
       "['20710 reporting ...\\n20710 reporting ...\\n20710 reporting ...\\n20710 reporting ...\\n20710 reporting ...\\n20710 reporting ...\\n20710 reporting ...\\n20710 reporting ...\\n20710 reporting ...\\n20710 reporting ...\\n',\n",
       " '20712 reporting ...\\n20712 reporting ...\\n20712 reporting ...\\n20712 reporting ...\\n20712 reporting ...\\n20712 reporting ...\\n20712 reporting ...\\n20712 reporting ...\\n20712 reporting ...\\n20712 reporting ...\\n',\n",
       " '20714 reporting ...\\n20714 reporting ...\\n20714 reporting ...\\n20714 reporting ...\\n20714 reporting ...\\n20714 reporting ...\\n20714 reporting ...\\n20714 reporting ...\\n20714 reporting ...\\n20714 reporting ...\\n']"
      ]
     },
     "execution_count": 18,
     "metadata": {},
     "output_type": "execute_result"
    }
   ],
   "source": [
    "ar.stdout"
   ]
  },
  {
   "cell_type": "code",
   "execution_count": 11,
   "metadata": {
    "ExecuteTime": {
     "end_time": "2018-06-27T04:14:02.440695Z",
     "start_time": "2018-06-27T04:14:02.437442Z"
    }
   },
   "outputs": [
    {
     "ename": "CompositeError",
     "evalue": "one or more exceptions from call to method: dull_printing\n[0:apply]: NameError: name 'os' is not defined\n[1:apply]: NameError: name 'os' is not defined\n[2:apply]: NameError: name 'os' is not defined",
     "output_type": "error",
     "traceback": [
      "[0:apply]: ",
      "\u001b[0;31m---------------------------------------------------------------------------\u001b[0m\u001b[0;31mNameError\u001b[0m                                 Traceback (most recent call last)\u001b[0;32m<string>\u001b[0m in \u001b[0;36m<module>\u001b[0;34m()\u001b[0m",
      "\u001b[0;32m<ipython-input-10-6d9cdb91ab39>\u001b[0m in \u001b[0;36mdull_printing\u001b[0;34m()\u001b[0m",
      "\u001b[0;31mNameError\u001b[0m: name 'os' is not defined",
      "",
      "[1:apply]: ",
      "\u001b[0;31m---------------------------------------------------------------------------\u001b[0m\u001b[0;31mNameError\u001b[0m                                 Traceback (most recent call last)\u001b[0;32m<string>\u001b[0m in \u001b[0;36m<module>\u001b[0;34m()\u001b[0m",
      "\u001b[0;32m<ipython-input-10-6d9cdb91ab39>\u001b[0m in \u001b[0;36mdull_printing\u001b[0;34m()\u001b[0m",
      "\u001b[0;31mNameError\u001b[0m: name 'os' is not defined",
      "",
      "[2:apply]: ",
      "\u001b[0;31m---------------------------------------------------------------------------\u001b[0m\u001b[0;31mNameError\u001b[0m                                 Traceback (most recent call last)\u001b[0;32m<string>\u001b[0m in \u001b[0;36m<module>\u001b[0;34m()\u001b[0m",
      "\u001b[0;32m<ipython-input-10-6d9cdb91ab39>\u001b[0m in \u001b[0;36mdull_printing\u001b[0;34m()\u001b[0m",
      "\u001b[0;31mNameError\u001b[0m: name 'os' is not defined",
      ""
     ]
    }
   ],
   "source": [
    "ar.get_dict()"
   ]
  },
  {
   "cell_type": "code",
   "execution_count": 6,
   "metadata": {
    "ExecuteTime": {
     "end_time": "2018-06-27T04:12:21.023795Z",
     "start_time": "2018-06-27T04:12:11.007233Z"
    }
   },
   "outputs": [
    {
     "name": "stdout",
     "output_type": "stream",
     "text": [
      "20874 reporting ...\n",
      "20874 reporting ...\n",
      "20874 reporting ...\n",
      "20874 reporting ...\n",
      "20874 reporting ...\n",
      "20874 reporting ...\n",
      "20874 reporting ...\n",
      "20874 reporting ...\n",
      "20874 reporting ...\n",
      "20874 reporting ...\n"
     ]
    }
   ],
   "source": [
    "dull_printing()"
   ]
  }
 ],
 "metadata": {
  "hide_input": false,
  "kernelspec": {
   "display_name": "atmos",
   "language": "python",
   "name": "atmos"
  },
  "language_info": {
   "codemirror_mode": {
    "name": "ipython",
    "version": 3
   },
   "file_extension": ".py",
   "mimetype": "text/x-python",
   "name": "python",
   "nbconvert_exporter": "python",
   "pygments_lexer": "ipython3",
   "version": "3.6.6"
  },
  "latex_envs": {
   "LaTeX_envs_menu_present": true,
   "autocomplete": true,
   "bibliofile": "biblio.bib",
   "cite_by": "apalike",
   "current_citInitial": 1,
   "eqLabelWithNumbers": true,
   "eqNumInitial": 1,
   "hotkeys": {
    "equation": "Ctrl-E",
    "itemize": "Ctrl-I"
   },
   "labels_anchors": false,
   "latex_user_defs": false,
   "report_style_numbering": false,
   "user_envs_cfg": false
  },
  "varInspector": {
   "cols": {
    "lenName": 16,
    "lenType": 16,
    "lenVar": 40
   },
   "kernels_config": {
    "python": {
     "delete_cmd_postfix": "",
     "delete_cmd_prefix": "del ",
     "library": "var_list.py",
     "varRefreshCmd": "print(var_dic_list())"
    },
    "r": {
     "delete_cmd_postfix": ") ",
     "delete_cmd_prefix": "rm(",
     "library": "var_list.r",
     "varRefreshCmd": "cat(var_dic_list()) "
    }
   },
   "types_to_exclude": [
    "module",
    "function",
    "builtin_function_or_method",
    "instance",
    "_Feature"
   ],
   "window_display": false
  }
 },
 "nbformat": 4,
 "nbformat_minor": 2
}
